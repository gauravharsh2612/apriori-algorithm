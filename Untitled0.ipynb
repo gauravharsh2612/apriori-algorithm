{
  "nbformat": 4,
  "nbformat_minor": 0,
  "metadata": {
    "colab": {
      "name": "Untitled0.ipynb",
      "provenance": [],
      "collapsed_sections": []
    },
    "kernelspec": {
      "name": "python3",
      "display_name": "Python 3"
    }
  },
  "cells": [
    {
      "cell_type": "code",
      "metadata": {
        "id": "5zk5kWOhlhqX"
      },
      "source": [
        "import random \n",
        "import itertools\n",
        "# gen dataset \n",
        "\n",
        "data = [\"xbox\", \"lays\", \"coke\", \"lights\", \"wine\", \"laptop\", \"mouse\", \"tv\", \"cerals\", \"chocolate\"]\n",
        "\n",
        "transactions  = []\n",
        "maxPurachase = 5\n",
        "def generateData(data, n = 60):\n",
        "  output = []\n",
        "  for _ in range(n):\n",
        "    k = set()\n",
        "    for i in range(random.randint(1,maxPurachase)):\n",
        "      k.add(data[random.randint(0,len(data)-1)])\n",
        "    output.append(list(k))\n",
        "  return output\n",
        "\n",
        "transactions = generateData(data)"
      ],
      "execution_count": 2,
      "outputs": []
    },
    {
      "cell_type": "code",
      "metadata": {
        "id": "pIb2oGtHl8Vz",
        "colab": {
          "base_uri": "https://localhost:8080/"
        },
        "outputId": "7612c410-87fd-4e7d-c278-78e84f2a0a91"
      },
      "source": [
        "transactions"
      ],
      "execution_count": 16,
      "outputs": [
        {
          "output_type": "execute_result",
          "data": {
            "text/plain": [
              "[['xbox'],\n",
              " ['xbox', 'cerals'],\n",
              " ['lays', 'cerals'],\n",
              " ['tv', 'wine', 'laptop', 'lays', 'mouse'],\n",
              " ['tv', 'coke'],\n",
              " ['lights'],\n",
              " ['lays'],\n",
              " ['chocolate', 'tv', 'wine', 'mouse'],\n",
              " ['lays', 'lights', 'cerals'],\n",
              " ['xbox', 'chocolate', 'tv'],\n",
              " ['mouse', 'cerals'],\n",
              " ['lays', 'lights', 'coke'],\n",
              " ['cerals'],\n",
              " ['wine', 'lights'],\n",
              " ['tv', 'wine', 'lights'],\n",
              " ['wine', 'cerals', 'laptop', 'lays', 'mouse'],\n",
              " ['lights', 'coke', 'wine'],\n",
              " ['lays', 'xbox', 'cerals', 'coke'],\n",
              " ['xbox', 'mouse', 'laptop'],\n",
              " ['laptop', 'lays', 'chocolate', 'coke'],\n",
              " ['mouse', 'wine'],\n",
              " ['coke', 'chocolate', 'tv', 'cerals'],\n",
              " ['laptop'],\n",
              " ['chocolate', 'wine', 'coke'],\n",
              " ['chocolate'],\n",
              " ['xbox', 'mouse', 'cerals'],\n",
              " ['lays', 'mouse', 'coke'],\n",
              " ['xbox', 'lays', 'mouse', 'lights'],\n",
              " ['wine', 'laptop'],\n",
              " ['lays', 'tv', 'coke'],\n",
              " ['wine', 'cerals'],\n",
              " ['xbox', 'lights'],\n",
              " ['mouse'],\n",
              " ['tv', 'wine', 'cerals'],\n",
              " ['chocolate', 'mouse', 'lights', 'wine'],\n",
              " ['wine'],\n",
              " ['cerals', 'coke', 'lights'],\n",
              " ['wine', 'lights'],\n",
              " ['mouse', 'wine', 'cerals'],\n",
              " ['mouse', 'cerals', 'wine'],\n",
              " ['lights', 'wine', 'laptop', 'lays', 'mouse'],\n",
              " ['chocolate', 'coke'],\n",
              " ['coke'],\n",
              " ['xbox', 'tv', 'mouse'],\n",
              " ['xbox', 'laptop', 'tv', 'lights'],\n",
              " ['chocolate', 'cerals', 'laptop', 'lays', 'mouse'],\n",
              " ['tv', 'lights'],\n",
              " ['lays', 'coke', 'lights'],\n",
              " ['tv', 'mouse', 'wine'],\n",
              " ['wine'],\n",
              " ['lays', 'mouse', 'laptop'],\n",
              " ['mouse', 'tv', 'wine', 'cerals'],\n",
              " ['xbox', 'lays', 'tv', 'mouse'],\n",
              " ['chocolate', 'tv', 'coke'],\n",
              " ['tv', 'coke'],\n",
              " ['chocolate', 'wine'],\n",
              " ['xbox', 'chocolate', 'tv', 'lights'],\n",
              " ['laptop', 'coke', 'lights'],\n",
              " ['tv'],\n",
              " ['cerals', 'lights', 'coke']]"
            ]
          },
          "metadata": {
            "tags": []
          },
          "execution_count": 16
        }
      ]
    },
    {
      "cell_type": "code",
      "metadata": {
        "colab": {
          "base_uri": "https://localhost:8080/"
        },
        "id": "YtpbMmTHXnyU",
        "outputId": "26175d51-e984-4552-8037-970656d2254b"
      },
      "source": [
        "def generateItemset(itemset, size):\n",
        "  data = set()\n",
        "  for p in itemset:\n",
        "    for k in p:\n",
        "      data.add(k)\n",
        "  data = list(data)\n",
        "  output = []\n",
        "  p = list(itertools.combinations(data, size))\n",
        "  for data in p:\n",
        "    output.append(list(data))\n",
        "  return output\n",
        "\n",
        "print(generateItemset(transactions, 2))"
      ],
      "execution_count": 4,
      "outputs": [
        {
          "output_type": "stream",
          "text": [
            "[['lights', 'chocolate'], ['lights', 'tv'], ['lights', 'wine'], ['lights', 'cerals'], ['lights', 'xbox'], ['lights', 'laptop'], ['lights', 'coke'], ['lights', 'lays'], ['lights', 'mouse'], ['chocolate', 'tv'], ['chocolate', 'wine'], ['chocolate', 'cerals'], ['chocolate', 'xbox'], ['chocolate', 'laptop'], ['chocolate', 'coke'], ['chocolate', 'lays'], ['chocolate', 'mouse'], ['tv', 'wine'], ['tv', 'cerals'], ['tv', 'xbox'], ['tv', 'laptop'], ['tv', 'coke'], ['tv', 'lays'], ['tv', 'mouse'], ['wine', 'cerals'], ['wine', 'xbox'], ['wine', 'laptop'], ['wine', 'coke'], ['wine', 'lays'], ['wine', 'mouse'], ['cerals', 'xbox'], ['cerals', 'laptop'], ['cerals', 'coke'], ['cerals', 'lays'], ['cerals', 'mouse'], ['xbox', 'laptop'], ['xbox', 'coke'], ['xbox', 'lays'], ['xbox', 'mouse'], ['laptop', 'coke'], ['laptop', 'lays'], ['laptop', 'mouse'], ['coke', 'lays'], ['coke', 'mouse'], ['lays', 'mouse']]\n"
          ],
          "name": "stdout"
        }
      ]
    },
    {
      "cell_type": "code",
      "metadata": {
        "colab": {
          "base_uri": "https://localhost:8080/"
        },
        "id": "joNqKdQhYRop",
        "outputId": "7bbc7452-56a0-4e05-f85f-f857c01e53da"
      },
      "source": [
        "import numpy\n",
        "import json \n",
        "def filterItemset(itemset, transactions, minSupport = 2):\n",
        "  count = {}\n",
        "  for p in itemset:\n",
        "    for t in transactions:\n",
        "      ans = True\n",
        "      for i in numpy.in1d(numpy.array(p), numpy.array(t)):\n",
        "        ans &= i\n",
        "      if ans:\n",
        "        try:\n",
        "          count[json.dumps(p)] += 1\n",
        "        except:\n",
        "          count[json.dumps(p)] = 1\n",
        "  updatedCount = {}\n",
        "  for i in count:\n",
        "    if count[i] >= minSupport:\n",
        "      updatedCount[i] = count[i]\n",
        "  # print(updatedCount)\n",
        "  return updatedCount\n",
        "\n",
        "filterItemset(generateItemset(transactions, 2), transactions)"
      ],
      "execution_count": 18,
      "outputs": [
        {
          "output_type": "execute_result",
          "data": {
            "text/plain": [
              "{'[\"cerals\", \"coke\"]': 4,\n",
              " '[\"cerals\", \"laptop\"]': 2,\n",
              " '[\"cerals\", \"lays\"]': 5,\n",
              " '[\"cerals\", \"mouse\"]': 7,\n",
              " '[\"cerals\", \"xbox\"]': 3,\n",
              " '[\"chocolate\", \"cerals\"]': 2,\n",
              " '[\"chocolate\", \"coke\"]': 5,\n",
              " '[\"chocolate\", \"laptop\"]': 2,\n",
              " '[\"chocolate\", \"lays\"]': 2,\n",
              " '[\"chocolate\", \"mouse\"]': 3,\n",
              " '[\"chocolate\", \"tv\"]': 5,\n",
              " '[\"chocolate\", \"wine\"]': 4,\n",
              " '[\"chocolate\", \"xbox\"]': 2,\n",
              " '[\"coke\", \"lays\"]': 6,\n",
              " '[\"laptop\", \"coke\"]': 2,\n",
              " '[\"laptop\", \"lays\"]': 6,\n",
              " '[\"laptop\", \"mouse\"]': 6,\n",
              " '[\"lays\", \"mouse\"]': 8,\n",
              " '[\"lights\", \"cerals\"]': 3,\n",
              " '[\"lights\", \"chocolate\"]': 2,\n",
              " '[\"lights\", \"coke\"]': 6,\n",
              " '[\"lights\", \"laptop\"]': 3,\n",
              " '[\"lights\", \"lays\"]': 5,\n",
              " '[\"lights\", \"mouse\"]': 3,\n",
              " '[\"lights\", \"tv\"]': 4,\n",
              " '[\"lights\", \"wine\"]': 6,\n",
              " '[\"lights\", \"xbox\"]': 4,\n",
              " '[\"tv\", \"cerals\"]': 3,\n",
              " '[\"tv\", \"coke\"]': 5,\n",
              " '[\"tv\", \"laptop\"]': 2,\n",
              " '[\"tv\", \"lays\"]': 3,\n",
              " '[\"tv\", \"mouse\"]': 6,\n",
              " '[\"tv\", \"wine\"]': 6,\n",
              " '[\"tv\", \"xbox\"]': 5,\n",
              " '[\"wine\", \"cerals\"]': 6,\n",
              " '[\"wine\", \"coke\"]': 2,\n",
              " '[\"wine\", \"laptop\"]': 4,\n",
              " '[\"wine\", \"lays\"]': 3,\n",
              " '[\"wine\", \"mouse\"]': 10,\n",
              " '[\"xbox\", \"laptop\"]': 2,\n",
              " '[\"xbox\", \"lays\"]': 3,\n",
              " '[\"xbox\", \"mouse\"]': 5}"
            ]
          },
          "metadata": {
            "tags": []
          },
          "execution_count": 18
        }
      ]
    },
    {
      "cell_type": "code",
      "metadata": {
        "colab": {
          "base_uri": "https://localhost:8080/"
        },
        "id": "WCFuwMRULIat",
        "outputId": "9f23a796-3683-46cf-cc8f-792f16e73566"
      },
      "source": [
        "import json\n",
        "p = [{'[\"lights\"]': 18, '[\"chocolate\"]': 12, '[\"tv\"]': 18, '[\"wine\"]': 21, '[\"cerals\"]': 17, '[\"xbox\"]': 12, '[\"laptop\"]': 11, '[\"coke\"]': 17, '[\"lays\"]': 16, '[\"mouse\"]': 20}, {'[\"lights\", \"chocolate\"]': 2, '[\"lights\", \"tv\"]': 4, '[\"lights\", \"wine\"]': 6, '[\"lights\", \"cerals\"]': 3, '[\"lights\", \"xbox\"]': 4, '[\"lights\", \"laptop\"]': 3, '[\"lights\", \"coke\"]': 6, '[\"lights\", \"lays\"]': 5, '[\"lights\", \"mouse\"]': 3, '[\"chocolate\", \"tv\"]': 5, '[\"chocolate\", \"wine\"]': 4, '[\"chocolate\", \"cerals\"]': 2, '[\"chocolate\", \"xbox\"]': 2, '[\"chocolate\", \"laptop\"]': 2, '[\"chocolate\", \"coke\"]': 5, '[\"chocolate\", \"lays\"]': 2, '[\"chocolate\", \"mouse\"]': 3, '[\"tv\", \"wine\"]': 6, '[\"tv\", \"cerals\"]': 3, '[\"tv\", \"xbox\"]': 5, '[\"tv\", \"laptop\"]': 2, '[\"tv\", \"coke\"]': 5, '[\"tv\", \"lays\"]': 3, '[\"tv\", \"mouse\"]': 6, '[\"wine\", \"cerals\"]': 6, '[\"wine\", \"laptop\"]': 4, '[\"wine\", \"coke\"]': 2, '[\"wine\", \"lays\"]': 3, '[\"wine\", \"mouse\"]': 10, '[\"cerals\", \"xbox\"]': 3, '[\"cerals\", \"laptop\"]': 2, '[\"cerals\", \"coke\"]': 4, '[\"cerals\", \"lays\"]': 5, '[\"cerals\", \"mouse\"]': 7, '[\"xbox\", \"laptop\"]': 2, '[\"xbox\", \"lays\"]': 3, '[\"xbox\", \"mouse\"]': 5, '[\"laptop\", \"coke\"]': 2, '[\"laptop\", \"lays\"]': 6, '[\"laptop\", \"mouse\"]': 6, '[\"coke\", \"lays\"]': 6, '[\"lays\", \"mouse\"]': 8}, {'[\"lights\", \"tv\", \"xbox\"]': 2, '[\"lights\", \"wine\", \"mouse\"]': 2, '[\"lights\", \"cerals\", \"coke\"]': 2, '[\"lights\", \"coke\", \"lays\"]': 2, '[\"lights\", \"lays\", \"mouse\"]': 2, '[\"chocolate\", \"tv\", \"xbox\"]': 2, '[\"chocolate\", \"tv\", \"coke\"]': 2, '[\"chocolate\", \"wine\", \"mouse\"]': 2, '[\"chocolate\", \"laptop\", \"lays\"]': 2, '[\"tv\", \"wine\", \"cerals\"]': 2, '[\"tv\", \"wine\", \"mouse\"]': 4, '[\"tv\", \"xbox\", \"mouse\"]': 2, '[\"tv\", \"lays\", \"mouse\"]': 2, '[\"wine\", \"cerals\", \"mouse\"]': 4, '[\"wine\", \"laptop\", \"lays\"]': 3, '[\"wine\", \"laptop\", \"mouse\"]': 3, '[\"wine\", \"lays\", \"mouse\"]': 3, '[\"cerals\", \"laptop\", \"lays\"]': 2, '[\"cerals\", \"laptop\", \"mouse\"]': 2, '[\"cerals\", \"lays\", \"mouse\"]': 2, '[\"xbox\", \"lays\", \"mouse\"]': 2, '[\"laptop\", \"lays\", \"mouse\"]': 5}, {'[\"wine\", \"laptop\", \"lays\", \"mouse\"]': 3, '[\"cerals\", \"laptop\", \"lays\", \"mouse\"]': 2}, {}]\n",
        "c = 0.3\n",
        "\n",
        "def filterSet(data):\n",
        "  output = []\n",
        "  for i in range(1, len(data)):\n",
        "    for k in data[i]:\n",
        "      v = data[i][k]\n",
        "      for t in json.loads(k):\n",
        "        # print(k, t,  v / p[0][json.dumps([t])])\n",
        "        if v / p[0][json.dumps([t])] >= c:\n",
        "          print(k)\n",
        "          output.append([k, t,  v / p[0][json.dumps([t])]])\n",
        "  return output\n",
        "print(filterSet(p))\n"
      ],
      "execution_count": 39,
      "outputs": [
        {
          "output_type": "stream",
          "text": [
            "[\"lights\", \"wine\"]\n",
            "[\"lights\", \"xbox\"]\n",
            "[\"lights\", \"coke\"]\n",
            "[\"lights\", \"coke\"]\n",
            "[\"lights\", \"lays\"]\n",
            "[\"chocolate\", \"tv\"]\n",
            "[\"chocolate\", \"wine\"]\n",
            "[\"chocolate\", \"coke\"]\n",
            "[\"tv\", \"wine\"]\n",
            "[\"tv\", \"xbox\"]\n",
            "[\"tv\", \"mouse\"]\n",
            "[\"tv\", \"mouse\"]\n",
            "[\"wine\", \"cerals\"]\n",
            "[\"wine\", \"laptop\"]\n",
            "[\"wine\", \"mouse\"]\n",
            "[\"wine\", \"mouse\"]\n",
            "[\"cerals\", \"lays\"]\n",
            "[\"cerals\", \"mouse\"]\n",
            "[\"cerals\", \"mouse\"]\n",
            "[\"xbox\", \"mouse\"]\n",
            "[\"laptop\", \"lays\"]\n",
            "[\"laptop\", \"lays\"]\n",
            "[\"laptop\", \"mouse\"]\n",
            "[\"laptop\", \"mouse\"]\n",
            "[\"coke\", \"lays\"]\n",
            "[\"coke\", \"lays\"]\n",
            "[\"lays\", \"mouse\"]\n",
            "[\"lays\", \"mouse\"]\n",
            "[\"laptop\", \"lays\", \"mouse\"]\n",
            "[\"laptop\", \"lays\", \"mouse\"]\n",
            "[['[\"lights\", \"wine\"]', 'lights', 0.3333333333333333], ['[\"lights\", \"xbox\"]', 'xbox', 0.3333333333333333], ['[\"lights\", \"coke\"]', 'lights', 0.3333333333333333], ['[\"lights\", \"coke\"]', 'coke', 0.35294117647058826], ['[\"lights\", \"lays\"]', 'lays', 0.3125], ['[\"chocolate\", \"tv\"]', 'chocolate', 0.4166666666666667], ['[\"chocolate\", \"wine\"]', 'chocolate', 0.3333333333333333], ['[\"chocolate\", \"coke\"]', 'chocolate', 0.4166666666666667], ['[\"tv\", \"wine\"]', 'tv', 0.3333333333333333], ['[\"tv\", \"xbox\"]', 'xbox', 0.4166666666666667], ['[\"tv\", \"mouse\"]', 'tv', 0.3333333333333333], ['[\"tv\", \"mouse\"]', 'mouse', 0.3], ['[\"wine\", \"cerals\"]', 'cerals', 0.35294117647058826], ['[\"wine\", \"laptop\"]', 'laptop', 0.36363636363636365], ['[\"wine\", \"mouse\"]', 'wine', 0.47619047619047616], ['[\"wine\", \"mouse\"]', 'mouse', 0.5], ['[\"cerals\", \"lays\"]', 'lays', 0.3125], ['[\"cerals\", \"mouse\"]', 'cerals', 0.4117647058823529], ['[\"cerals\", \"mouse\"]', 'mouse', 0.35], ['[\"xbox\", \"mouse\"]', 'xbox', 0.4166666666666667], ['[\"laptop\", \"lays\"]', 'laptop', 0.5454545454545454], ['[\"laptop\", \"lays\"]', 'lays', 0.375], ['[\"laptop\", \"mouse\"]', 'laptop', 0.5454545454545454], ['[\"laptop\", \"mouse\"]', 'mouse', 0.3], ['[\"coke\", \"lays\"]', 'coke', 0.35294117647058826], ['[\"coke\", \"lays\"]', 'lays', 0.375], ['[\"lays\", \"mouse\"]', 'lays', 0.5], ['[\"lays\", \"mouse\"]', 'mouse', 0.4], ['[\"laptop\", \"lays\", \"mouse\"]', 'laptop', 0.45454545454545453], ['[\"laptop\", \"lays\", \"mouse\"]', 'lays', 0.3125]]\n"
          ],
          "name": "stdout"
        }
      ]
    },
    {
      "cell_type": "code",
      "metadata": {
        "colab": {
          "base_uri": "https://localhost:8080/"
        },
        "id": "O4XnilLUdmMY",
        "outputId": "988f2932-e18f-48e5-8ee0-681dbc25123d"
      },
      "source": [
        "import json\n",
        "def apriori(data, transactions):\n",
        "  size = 1\n",
        "  itemset = []\n",
        "  sizeset = [] \n",
        "  while size <= 5:\n",
        "    if size == 1:\n",
        "      p = filterItemset(generateItemset(transactions, size), transactions)\n",
        "      itemset = [json.loads(x) for x in p.keys()]\n",
        "      size += 1\n",
        "      print(p)\n",
        "      sizeset.append(p)\n",
        "    else:\n",
        "      p = filterItemset(generateItemset(itemset, size), transactions)\n",
        "      itemset = [json.loads(x) for x in p.keys()]\n",
        "      size += 1\n",
        "      print(p)\n",
        "      sizeset.append(p)\n",
        "  print(sizeset)\n",
        "  output = filterSet(sizeset)\n",
        "  return output  \n",
        "\n",
        "output = apriori(data, transactions)\n",
        "print(output)"
      ],
      "execution_count": 41,
      "outputs": [
        {
          "output_type": "stream",
          "text": [
            "{'[\"lights\"]': 18, '[\"chocolate\"]': 12, '[\"tv\"]': 18, '[\"wine\"]': 21, '[\"cerals\"]': 17, '[\"xbox\"]': 12, '[\"laptop\"]': 11, '[\"coke\"]': 17, '[\"lays\"]': 16, '[\"mouse\"]': 20}\n",
            "{'[\"lights\", \"chocolate\"]': 2, '[\"lights\", \"tv\"]': 4, '[\"lights\", \"wine\"]': 6, '[\"lights\", \"cerals\"]': 3, '[\"lights\", \"xbox\"]': 4, '[\"lights\", \"laptop\"]': 3, '[\"lights\", \"coke\"]': 6, '[\"lights\", \"lays\"]': 5, '[\"lights\", \"mouse\"]': 3, '[\"chocolate\", \"tv\"]': 5, '[\"chocolate\", \"wine\"]': 4, '[\"chocolate\", \"cerals\"]': 2, '[\"chocolate\", \"xbox\"]': 2, '[\"chocolate\", \"laptop\"]': 2, '[\"chocolate\", \"coke\"]': 5, '[\"chocolate\", \"lays\"]': 2, '[\"chocolate\", \"mouse\"]': 3, '[\"tv\", \"wine\"]': 6, '[\"tv\", \"cerals\"]': 3, '[\"tv\", \"xbox\"]': 5, '[\"tv\", \"laptop\"]': 2, '[\"tv\", \"coke\"]': 5, '[\"tv\", \"lays\"]': 3, '[\"tv\", \"mouse\"]': 6, '[\"wine\", \"cerals\"]': 6, '[\"wine\", \"laptop\"]': 4, '[\"wine\", \"coke\"]': 2, '[\"wine\", \"lays\"]': 3, '[\"wine\", \"mouse\"]': 10, '[\"cerals\", \"xbox\"]': 3, '[\"cerals\", \"laptop\"]': 2, '[\"cerals\", \"coke\"]': 4, '[\"cerals\", \"lays\"]': 5, '[\"cerals\", \"mouse\"]': 7, '[\"xbox\", \"laptop\"]': 2, '[\"xbox\", \"lays\"]': 3, '[\"xbox\", \"mouse\"]': 5, '[\"laptop\", \"coke\"]': 2, '[\"laptop\", \"lays\"]': 6, '[\"laptop\", \"mouse\"]': 6, '[\"coke\", \"lays\"]': 6, '[\"lays\", \"mouse\"]': 8}\n",
            "{'[\"lights\", \"tv\", \"xbox\"]': 2, '[\"lights\", \"wine\", \"mouse\"]': 2, '[\"lights\", \"cerals\", \"coke\"]': 2, '[\"lights\", \"coke\", \"lays\"]': 2, '[\"lights\", \"lays\", \"mouse\"]': 2, '[\"chocolate\", \"tv\", \"xbox\"]': 2, '[\"chocolate\", \"tv\", \"coke\"]': 2, '[\"chocolate\", \"wine\", \"mouse\"]': 2, '[\"chocolate\", \"laptop\", \"lays\"]': 2, '[\"tv\", \"wine\", \"cerals\"]': 2, '[\"tv\", \"wine\", \"mouse\"]': 4, '[\"tv\", \"xbox\", \"mouse\"]': 2, '[\"tv\", \"lays\", \"mouse\"]': 2, '[\"wine\", \"cerals\", \"mouse\"]': 4, '[\"wine\", \"laptop\", \"lays\"]': 3, '[\"wine\", \"laptop\", \"mouse\"]': 3, '[\"wine\", \"lays\", \"mouse\"]': 3, '[\"cerals\", \"laptop\", \"lays\"]': 2, '[\"cerals\", \"laptop\", \"mouse\"]': 2, '[\"cerals\", \"lays\", \"mouse\"]': 2, '[\"xbox\", \"lays\", \"mouse\"]': 2, '[\"laptop\", \"lays\", \"mouse\"]': 5}\n",
            "{'[\"wine\", \"laptop\", \"lays\", \"mouse\"]': 3, '[\"cerals\", \"laptop\", \"lays\", \"mouse\"]': 2}\n",
            "{}\n",
            "[{'[\"lights\"]': 18, '[\"chocolate\"]': 12, '[\"tv\"]': 18, '[\"wine\"]': 21, '[\"cerals\"]': 17, '[\"xbox\"]': 12, '[\"laptop\"]': 11, '[\"coke\"]': 17, '[\"lays\"]': 16, '[\"mouse\"]': 20}, {'[\"lights\", \"chocolate\"]': 2, '[\"lights\", \"tv\"]': 4, '[\"lights\", \"wine\"]': 6, '[\"lights\", \"cerals\"]': 3, '[\"lights\", \"xbox\"]': 4, '[\"lights\", \"laptop\"]': 3, '[\"lights\", \"coke\"]': 6, '[\"lights\", \"lays\"]': 5, '[\"lights\", \"mouse\"]': 3, '[\"chocolate\", \"tv\"]': 5, '[\"chocolate\", \"wine\"]': 4, '[\"chocolate\", \"cerals\"]': 2, '[\"chocolate\", \"xbox\"]': 2, '[\"chocolate\", \"laptop\"]': 2, '[\"chocolate\", \"coke\"]': 5, '[\"chocolate\", \"lays\"]': 2, '[\"chocolate\", \"mouse\"]': 3, '[\"tv\", \"wine\"]': 6, '[\"tv\", \"cerals\"]': 3, '[\"tv\", \"xbox\"]': 5, '[\"tv\", \"laptop\"]': 2, '[\"tv\", \"coke\"]': 5, '[\"tv\", \"lays\"]': 3, '[\"tv\", \"mouse\"]': 6, '[\"wine\", \"cerals\"]': 6, '[\"wine\", \"laptop\"]': 4, '[\"wine\", \"coke\"]': 2, '[\"wine\", \"lays\"]': 3, '[\"wine\", \"mouse\"]': 10, '[\"cerals\", \"xbox\"]': 3, '[\"cerals\", \"laptop\"]': 2, '[\"cerals\", \"coke\"]': 4, '[\"cerals\", \"lays\"]': 5, '[\"cerals\", \"mouse\"]': 7, '[\"xbox\", \"laptop\"]': 2, '[\"xbox\", \"lays\"]': 3, '[\"xbox\", \"mouse\"]': 5, '[\"laptop\", \"coke\"]': 2, '[\"laptop\", \"lays\"]': 6, '[\"laptop\", \"mouse\"]': 6, '[\"coke\", \"lays\"]': 6, '[\"lays\", \"mouse\"]': 8}, {'[\"lights\", \"tv\", \"xbox\"]': 2, '[\"lights\", \"wine\", \"mouse\"]': 2, '[\"lights\", \"cerals\", \"coke\"]': 2, '[\"lights\", \"coke\", \"lays\"]': 2, '[\"lights\", \"lays\", \"mouse\"]': 2, '[\"chocolate\", \"tv\", \"xbox\"]': 2, '[\"chocolate\", \"tv\", \"coke\"]': 2, '[\"chocolate\", \"wine\", \"mouse\"]': 2, '[\"chocolate\", \"laptop\", \"lays\"]': 2, '[\"tv\", \"wine\", \"cerals\"]': 2, '[\"tv\", \"wine\", \"mouse\"]': 4, '[\"tv\", \"xbox\", \"mouse\"]': 2, '[\"tv\", \"lays\", \"mouse\"]': 2, '[\"wine\", \"cerals\", \"mouse\"]': 4, '[\"wine\", \"laptop\", \"lays\"]': 3, '[\"wine\", \"laptop\", \"mouse\"]': 3, '[\"wine\", \"lays\", \"mouse\"]': 3, '[\"cerals\", \"laptop\", \"lays\"]': 2, '[\"cerals\", \"laptop\", \"mouse\"]': 2, '[\"cerals\", \"lays\", \"mouse\"]': 2, '[\"xbox\", \"lays\", \"mouse\"]': 2, '[\"laptop\", \"lays\", \"mouse\"]': 5}, {'[\"wine\", \"laptop\", \"lays\", \"mouse\"]': 3, '[\"cerals\", \"laptop\", \"lays\", \"mouse\"]': 2}, {}]\n",
            "[\"lights\", \"wine\"]\n",
            "[\"lights\", \"xbox\"]\n",
            "[\"lights\", \"coke\"]\n",
            "[\"lights\", \"coke\"]\n",
            "[\"lights\", \"lays\"]\n",
            "[\"chocolate\", \"tv\"]\n",
            "[\"chocolate\", \"wine\"]\n",
            "[\"chocolate\", \"coke\"]\n",
            "[\"tv\", \"wine\"]\n",
            "[\"tv\", \"xbox\"]\n",
            "[\"tv\", \"mouse\"]\n",
            "[\"tv\", \"mouse\"]\n",
            "[\"wine\", \"cerals\"]\n",
            "[\"wine\", \"laptop\"]\n",
            "[\"wine\", \"mouse\"]\n",
            "[\"wine\", \"mouse\"]\n",
            "[\"cerals\", \"lays\"]\n",
            "[\"cerals\", \"mouse\"]\n",
            "[\"cerals\", \"mouse\"]\n",
            "[\"xbox\", \"mouse\"]\n",
            "[\"laptop\", \"lays\"]\n",
            "[\"laptop\", \"lays\"]\n",
            "[\"laptop\", \"mouse\"]\n",
            "[\"laptop\", \"mouse\"]\n",
            "[\"coke\", \"lays\"]\n",
            "[\"coke\", \"lays\"]\n",
            "[\"lays\", \"mouse\"]\n",
            "[\"lays\", \"mouse\"]\n",
            "[\"laptop\", \"lays\", \"mouse\"]\n",
            "[\"laptop\", \"lays\", \"mouse\"]\n",
            "[['[\"lights\", \"wine\"]', 'lights', 0.3333333333333333], ['[\"lights\", \"xbox\"]', 'xbox', 0.3333333333333333], ['[\"lights\", \"coke\"]', 'lights', 0.3333333333333333], ['[\"lights\", \"coke\"]', 'coke', 0.35294117647058826], ['[\"lights\", \"lays\"]', 'lays', 0.3125], ['[\"chocolate\", \"tv\"]', 'chocolate', 0.4166666666666667], ['[\"chocolate\", \"wine\"]', 'chocolate', 0.3333333333333333], ['[\"chocolate\", \"coke\"]', 'chocolate', 0.4166666666666667], ['[\"tv\", \"wine\"]', 'tv', 0.3333333333333333], ['[\"tv\", \"xbox\"]', 'xbox', 0.4166666666666667], ['[\"tv\", \"mouse\"]', 'tv', 0.3333333333333333], ['[\"tv\", \"mouse\"]', 'mouse', 0.3], ['[\"wine\", \"cerals\"]', 'cerals', 0.35294117647058826], ['[\"wine\", \"laptop\"]', 'laptop', 0.36363636363636365], ['[\"wine\", \"mouse\"]', 'wine', 0.47619047619047616], ['[\"wine\", \"mouse\"]', 'mouse', 0.5], ['[\"cerals\", \"lays\"]', 'lays', 0.3125], ['[\"cerals\", \"mouse\"]', 'cerals', 0.4117647058823529], ['[\"cerals\", \"mouse\"]', 'mouse', 0.35], ['[\"xbox\", \"mouse\"]', 'xbox', 0.4166666666666667], ['[\"laptop\", \"lays\"]', 'laptop', 0.5454545454545454], ['[\"laptop\", \"lays\"]', 'lays', 0.375], ['[\"laptop\", \"mouse\"]', 'laptop', 0.5454545454545454], ['[\"laptop\", \"mouse\"]', 'mouse', 0.3], ['[\"coke\", \"lays\"]', 'coke', 0.35294117647058826], ['[\"coke\", \"lays\"]', 'lays', 0.375], ['[\"lays\", \"mouse\"]', 'lays', 0.5], ['[\"lays\", \"mouse\"]', 'mouse', 0.4], ['[\"laptop\", \"lays\", \"mouse\"]', 'laptop', 0.45454545454545453], ['[\"laptop\", \"lays\", \"mouse\"]', 'lays', 0.3125]]\n"
          ],
          "name": "stdout"
        }
      ]
    },
    {
      "cell_type": "code",
      "metadata": {
        "colab": {
          "base_uri": "https://localhost:8080/"
        },
        "id": "xc656BwIDyZL",
        "outputId": "548f9ada-0685-4f88-85e2-e83ee7441ae4"
      },
      "source": [
        "confidence = 0.1\n",
        "def validate(arr):\n",
        "  print(arr)\n",
        "\n",
        "validate(output)"
      ],
      "execution_count": 11,
      "outputs": [
        {
          "output_type": "stream",
          "text": [
            "[{'[\"lights\", \"chocolate\"]': 2, '[\"lights\", \"tv\"]': 4, '[\"lights\", \"wine\"]': 6, '[\"lights\", \"cerals\"]': 3, '[\"lights\", \"xbox\"]': 4, '[\"lights\", \"laptop\"]': 3, '[\"lights\", \"coke\"]': 6, '[\"lights\", \"lays\"]': 5, '[\"lights\", \"mouse\"]': 3, '[\"chocolate\", \"tv\"]': 5, '[\"chocolate\", \"wine\"]': 4, '[\"chocolate\", \"cerals\"]': 2, '[\"chocolate\", \"xbox\"]': 2, '[\"chocolate\", \"laptop\"]': 2, '[\"chocolate\", \"coke\"]': 5, '[\"chocolate\", \"lays\"]': 2, '[\"chocolate\", \"mouse\"]': 3, '[\"tv\", \"wine\"]': 6, '[\"tv\", \"cerals\"]': 3, '[\"tv\", \"xbox\"]': 5, '[\"tv\", \"laptop\"]': 2, '[\"tv\", \"coke\"]': 5, '[\"tv\", \"lays\"]': 3, '[\"tv\", \"mouse\"]': 6, '[\"wine\", \"cerals\"]': 6, '[\"wine\", \"laptop\"]': 4, '[\"wine\", \"coke\"]': 2, '[\"wine\", \"lays\"]': 3, '[\"wine\", \"mouse\"]': 10, '[\"cerals\", \"xbox\"]': 3, '[\"cerals\", \"laptop\"]': 2, '[\"cerals\", \"coke\"]': 4, '[\"cerals\", \"lays\"]': 5, '[\"cerals\", \"mouse\"]': 7, '[\"xbox\", \"laptop\"]': 2, '[\"xbox\", \"lays\"]': 3, '[\"xbox\", \"mouse\"]': 5, '[\"laptop\", \"coke\"]': 2, '[\"laptop\", \"lays\"]': 6, '[\"laptop\", \"mouse\"]': 6, '[\"coke\", \"lays\"]': 6, '[\"lays\", \"mouse\"]': 8}, {'[\"lights\", \"tv\", \"xbox\"]': 2, '[\"lights\", \"wine\", \"mouse\"]': 2, '[\"lights\", \"cerals\", \"coke\"]': 2, '[\"lights\", \"coke\", \"lays\"]': 2, '[\"lights\", \"lays\", \"mouse\"]': 2, '[\"chocolate\", \"tv\", \"xbox\"]': 2, '[\"chocolate\", \"tv\", \"coke\"]': 2, '[\"chocolate\", \"wine\", \"mouse\"]': 2, '[\"chocolate\", \"laptop\", \"lays\"]': 2, '[\"tv\", \"wine\", \"cerals\"]': 2, '[\"tv\", \"wine\", \"mouse\"]': 4, '[\"tv\", \"xbox\", \"mouse\"]': 2, '[\"tv\", \"lays\", \"mouse\"]': 2, '[\"wine\", \"cerals\", \"mouse\"]': 4, '[\"wine\", \"laptop\", \"lays\"]': 3, '[\"wine\", \"laptop\", \"mouse\"]': 3, '[\"wine\", \"lays\", \"mouse\"]': 3, '[\"cerals\", \"laptop\", \"lays\"]': 2, '[\"cerals\", \"laptop\", \"mouse\"]': 2, '[\"cerals\", \"lays\", \"mouse\"]': 2, '[\"xbox\", \"lays\", \"mouse\"]': 2, '[\"laptop\", \"lays\", \"mouse\"]': 5}, {'[\"wine\", \"laptop\", \"lays\", \"mouse\"]': 3, '[\"cerals\", \"laptop\", \"lays\", \"mouse\"]': 2}, {}, {}]\n"
          ],
          "name": "stdout"
        }
      ]
    }
  ]
}